{
  "nbformat": 4,
  "nbformat_minor": 0,
  "metadata": {
    "colab": {
      "provenance": []
    },
    "kernelspec": {
      "name": "python3",
      "display_name": "Python 3"
    },
    "language_info": {
      "name": "python"
    }
  },
  "cells": [
    {
      "cell_type": "markdown",
      "source": [
        "## [Lab 4] Linear Regression"
      ],
      "metadata": {
        "id": "oWBzRWBYqrzF"
      }
    },
    {
      "cell_type": "markdown",
      "source": [
        "  Linear regression is a fundamental statistical method used to model the relationship between a dependent variable and one or more independent variables. It assumes a linear relationship between the variables, allowing us to predict the value of the dependent variable based on the known values of the independent variables.\n",
        "\n",
        "\n",
        "---\n",
        "\n",
        "The goal of this lab session is focused on learning linear regression and interpreting its models. We will work with the real-world dataset, apply techniques to fit lines to data points, assess model performance, understand assumptions, and interpret results.\n",
        "\n",
        "---\n",
        " Some of the useful and most important equations:\n",
        "\n",
        "\n",
        "> Linear Regression Hypothesis : $h(x) = w_{0}+ w_{1}x$\n",
        "\n",
        "\n",
        "\n",
        "> Linear Regression Model : $y(x) = 1 + 1\\cdot x$\n",
        "\n",
        "\n",
        "\n",
        "\n",
        "> First Partial Derivatives :\n",
        "> $ \\frac{\\partial J}{\\partial w_{0}} = \\frac{1}{m} \\sum_{i=1}^{m} (y'^{(i)}-y^{(i)}) $,\n",
        "> $ \\frac{\\partial J}{\\partial w_{1}} = \\frac{1}{m} \\sum_{i=1}^{m} (y'^{(i)}-y^{(i)}) \\cdot x^{(i)} $\n",
        "\n"
      ],
      "metadata": {
        "id": "jqysWDO7qwj_"
      }
    },
    {
      "cell_type": "markdown",
      "source": [
        "> For the purpose of this lab, we will use [this](https://drive.google.com/file/d/104Cz-K9qiZ0FWnanl09gUULn58M8vau1/view?usp=share_link) dataset. You can download it from the LMS or from the Google Drive link, and upload to your notebook.\n",
        "\n",
        "> It only contains two columns: house price ($ y $) and size of the house ($ x $).\n"
      ],
      "metadata": {
        "id": "vxVd873LZwtK"
      }
    },
    {
      "cell_type": "markdown",
      "source": [
        "### 1.   Read and Write operations on a file\n",
        "In order to analyze and work with our dataset, firstly, we need to read its content. You can use the following code snippet. Additionally, you can use the helper *is_number* function, to handle possible non-numeric values in the columns."
      ],
      "metadata": {
        "id": "5mLV_-7NdrGj"
      }
    },
    {
      "cell_type": "code",
      "source": [
        "def is_number(s):\n",
        "    if s is None: return False\n",
        "    try:\n",
        "        complex(s)\n",
        "    except ValueError:\n",
        "        return False\n",
        "\n",
        "    return True\n",
        "\n",
        "def read_file(file_path):\n",
        "    try:\n",
        "        with open(file_path, 'r') as file:\n",
        "            data = []\n",
        "            lines = file.readlines()\n",
        "\n",
        "            keys = lines[0].split(',')\n",
        "            for i in range(1, len(lines)):\n",
        "                data_row = [\n",
        "                    float(cell.strip('\\n')) if is_number(cell.strip('\\n')) else cell.strip('\\n')\n",
        "                    for cell in lines[i].split(',')\n",
        "                ]\n",
        "                data.append(data_row)\n",
        "            return data\n",
        "    except FileNotFoundError:\n",
        "        raise RuntimeError(\"File not found.\")\n",
        "    except Exception as e:\n",
        "        raise RuntimeError(f\"An error occurred: {e}\")"
      ],
      "metadata": {
        "id": "doa2c0EFYjbP"
      },
      "execution_count": null,
      "outputs": []
    },
    {
      "cell_type": "code",
      "source": [
        "data = read_file('./sample_data/house_price.csv')\n",
        "print(data)"
      ],
      "metadata": {
        "colab": {
          "base_uri": "https://localhost:8080/"
        },
        "id": "WMcq16JYW4vB",
        "outputId": "41f058a4-a3a4-4fb3-aea7-17b53754f4c7"
      },
      "execution_count": null,
      "outputs": [
        {
          "output_type": "stream",
          "name": "stdout",
          "text": [
            "[[2104.0, 399900.0], [1600.0, 329900.0], [2400.0, 369000.0], [1416.0, 232000.0], [3000.0, 539900.0], [1985.0, 299900.0], [1534.0, 314900.0], [1427.0, 198999.0], [1380.0, 212000.0], [1494.0, 242500.0], [1940.0, 239999.0], [2000.0, 347000.0], [1890.0, 329999.0], [4478.0, 699900.0], [1268.0, 259900.0], [2300.0, 449900.0], [1320.0, 299900.0], [1236.0, 199900.0], [2609.0, 499998.0], [3031.0, 599000.0], [1767.0, 252900.0], [1888.0, 255000.0], [1604.0, 242900.0], [1962.0, 259900.0], [3890.0, 573900.0], [1100.0, 249900.0], [1458.0, 464500.0], [2526.0, 469000.0], [2200.0, 475000.0], [2637.0, 299900.0], [1839.0, 349900.0], [1000.0, 169900.0], [2040.0, 314900.0], [3137.0, 579900.0], [1811.0, 285900.0], [1437.0, 249900.0], [1239.0, 229900.0], [2132.0, 345000.0], [4215.0, 549000.0], [2162.0, 287000.0], [1664.0, 368500.0], [2238.0, 329900.0], [2567.0, 314000.0], [1200.0, 299000.0], [852.0, 179900.0], [1852.0, 299900.0], [1203.0, 239500.0]]\n"
          ]
        }
      ]
    },
    {
      "cell_type": "markdown",
      "source": [
        "### 2.1. Linear Regression Cost Function\n",
        "\n",
        "> This function should compute the cost function for a given set of parameters $w_{0}, w_{1}$\n",
        "(intercept and slope) of a linear regression model, based on the Mean Squared Error (MSE) formula. It iterates over each data point, calculates the predicted value using the current parameters, and accumulates the squared errors. Finally, it divides the sum by $2m$ (the number of data points), to get the average squared error. This function evaluates how well the linear regression model fits the training data.\n",
        "\n",
        "> The equation for the cost function is:\n",
        "\n",
        "> $J(w_{0}, w_{1}) = \\frac{1}{2m} \\sum_{i=1}^{m} (y'^{(i)}-y^{(i)})^2 $, where $y'^{(i)} = h(x^{(i)})$"
      ],
      "metadata": {
        "id": "Gmk9olvBdzZf"
      }
    },
    {
      "cell_type": "code",
      "source": [
        "def linear_reg_cost(w0, w1, x, y):\n",
        "    m = len(y)\n",
        "    total_error = 0.0\n",
        "\n",
        "    for i in range(m):\n",
        "        y_pred = w0 + w1 * x[i]\n",
        "        error = (y_pred - y[i]) ** 2\n",
        "        total_error += error\n",
        "    cost = total_error / (2 * m)\n",
        "    return cost\n",
        "\n",
        "x = [feature for feature, _ in data]\n",
        "y = [target for _, target in data]\n",
        "\n",
        "w0 = 3\n",
        "w1 = 1\n",
        "cost = linear_reg_cost(w0, w1, x, y)\n",
        "print(f\"Cost using linear_reg_cost function: {cost}\")"
      ],
      "metadata": {
        "id": "hQFf3qiueaQx",
        "colab": {
          "base_uri": "https://localhost:8080/"
        },
        "outputId": "a75d72b2-8987-46f1-f7e7-c632e075059e"
      },
      "execution_count": null,
      "outputs": [
        {
          "output_type": "stream",
          "name": "stdout",
          "text": [
            "Cost using linear_reg_cost function: 64828634166.04256\n"
          ]
        }
      ]
    },
    {
      "cell_type": "markdown",
      "source": [
        "### 2.2. Linear Regression Delta Cost\n",
        "\n",
        "> This function should compute the gradients of the cost function with respect to the parameters $(w_{0}, w_{1})$.  These gradients represent the direction and magnitude of adjustment needed to minimize the cost function, facilitating optimization techniques like gradient descent. By accumulating errors weighted by the corresponding features, it calculates the partial derivatives of the cost function and then averages these values by dividing by the number of data points $m$."
      ],
      "metadata": {
        "id": "eUlpVwSFmL-j"
      }
    },
    {
      "cell_type": "code",
      "source": [
        "def linear_reg_delta_cost(w0, w1, x, y):\n",
        "    m = len(y)\n",
        "    dw0 = 0.0\n",
        "    dw1 = 0.0\n",
        "    for i in range(m):\n",
        "        y_pred = w0 + w1 * x[i]\n",
        "        error = y_pred - y[i]\n",
        "\n",
        "        dw0 += error\n",
        "        dw1 += error * x[i]\n",
        "\n",
        "    dw0 /= m\n",
        "    dw1 /= m\n",
        "\n",
        "    return dw0, dw1\n",
        "\n",
        "w0 = 0.5\n",
        "w1 = 1\n",
        "dw0, dw1 = linear_reg_delta_cost(w0, w1, x, y)\n",
        "print(f\"dw0 using linear_reg_delta_cost function: {dw0}\")\n",
        "print(f\"dw1 using linear_reg_delta_cost function: {dw1}\")\n"
      ],
      "metadata": {
        "id": "kiLr6r3ze0F6",
        "colab": {
          "base_uri": "https://localhost:8080/"
        },
        "outputId": "1cff5c68-0f55-46a1-e0f6-d8c664acb3ae"
      },
      "execution_count": null,
      "outputs": [
        {
          "output_type": "stream",
          "name": "stdout",
          "text": [
            "dw0 using linear_reg_delta_cost function: -338411.47872340423\n",
            "dw1 using linear_reg_delta_cost function: -759587289.4255319\n"
          ]
        }
      ]
    },
    {
      "cell_type": "markdown",
      "source": [
        "### 2.3. Training the Linear Regression Model\n",
        "\n",
        "> Add blockquote\n",
        "\n",
        "\n",
        "\n",
        "> To train the model, we are adjusting the slope and intercept values.\n",
        "\n",
        "> \\begin{align*}\n",
        "    w_0 &:= w_0 - \\frac{\\partial}{\\partial w_0} J(w_0, w_1) \\\\\n",
        "    w_1 &:= w_1 - \\frac{\\partial}{\\partial w_1} J(w_0, w_1)\n",
        "\\end{align*}\n",
        "\n",
        "The adjustment of weights is a crucial step in the optimization process. It occurs through gradient descent which measures the disparity between predicted and actual values. By iteratively updating the weights in the direction opposite to the gradient of the cost function, the algorithm seeks to descend towards the minimum of the cost function, thereby refining the model's parameters to better fit the data.\n"
      ],
      "metadata": {
        "id": "8_1FnlCTe1Q1"
      }
    },
    {
      "cell_type": "code",
      "source": [
        "def train_linear_reg(x,\n",
        "                     y,\n",
        "                     w0 = 0,\n",
        "                     w1 = 0,\n",
        "                     learning_rate = 0.0000004,\n",
        "                     num_iterations = 1000,\n",
        "                     logging = False):\n",
        "   for iteration in range(num_iterations):\n",
        "        dw0, dw1 = linear_reg_delta_cost(w0, w1, x, y)\n",
        "\n",
        "        w0 -= learning_rate * dw0\n",
        "        w1 -= learning_rate * dw1\n",
        "\n",
        "        if logging and iteration % 100 == 0:\n",
        "            cost = linear_reg_cost(w0, w1, x, y)\n",
        "            print(f\"Iteration {iteration}: w0 = {w0}, w1 = {w1}, cost = {cost}\")\n",
        "\n",
        "   return w0, w1\n",
        "\n",
        "w0 = 0.5\n",
        "w1 = 1\n",
        "optimized_w0, optimized_w1 = train_linear_reg(x, y, w0, w1, logging=True)\n",
        "print(f\"Optimized w0 using train_linear_reg function: {optimized_w0}\")\n",
        "print(f\"Optimized w1 using train_linear_reg function: {optimized_w1}\")"
      ],
      "metadata": {
        "id": "_3WnN-2le1Yv",
        "colab": {
          "base_uri": "https://localhost:8080/"
        },
        "outputId": "6c1a0b19-eb5b-4a11-8e4a-8a2b6583b278"
      },
      "execution_count": null,
      "outputs": [
        {
          "output_type": "stream",
          "name": "stdout",
          "text": [
            "Iteration 0: w0 = 0.6353645914893618, w1 = 304.8349157702127, cost = 47328241921.375435\n",
            "Iteration 100: w0 = 0.9563269322028449, w1 = 165.3828147567124, cost = 2397856606.394789\n",
            "Iteration 200: w0 = 1.3376656270899496, w1 = 165.38263962112137, cost = 2397852970.9138846\n",
            "Iteration 300: w0 = 1.7190022859069087, w1 = 165.38247451407665, cost = 2397849335.4721165\n",
            "Iteration 400: w0 = 2.10033690432297, w1 = 165.38230940791607, cost = 2397845700.0692515\n",
            "Iteration 500: w0 = 2.4816694823490524, w1 = 165.38214430263892, cost = 2397842064.7052913\n",
            "Iteration 600: w0 = 2.8630000199960715, w1 = 165.38197919824523, cost = 2397838429.3802342\n",
            "Iteration 700: w0 = 3.2443285172749463, w1 = 165.38181409473498, cost = 2397834794.094078\n",
            "Iteration 800: w0 = 3.6256549741965935, w1 = 165.38164899210807, cost = 2397831158.8468256\n",
            "Iteration 900: w0 = 4.00697939077193, w1 = 165.38148389036462, cost = 2397827523.638474\n",
            "Optimized w0 using train_linear_reg function: 4.384488553349099\n",
            "Optimized w1 using train_linear_reg function: 165.38132044050877\n"
          ]
        }
      ]
    },
    {
      "cell_type": "markdown",
      "source": [
        "Of course, you will adjust these parameters according to your preference."
      ],
      "metadata": {
        "id": "8dK1LedMc5sx"
      }
    },
    {
      "cell_type": "markdown",
      "source": [
        "#### 2.4. Visualization\n",
        "> You can try to plot and visualize the regression line alongside the data points, to assess the model's fit and to see its performance when the adjustment of parameters is done. Below, you can find a helper column function, that will extracts a specific column. In our case, it is used to find the values of dependant and independant variable from our dataset."
      ],
      "metadata": {
        "id": "hAjEBQa4OzU7"
      }
    },
    {
      "cell_type": "code",
      "source": [
        "def column(matrix, i):\n",
        "    return [row[i] for row in matrix]"
      ],
      "metadata": {
        "id": "a8EeSU3ve-mk"
      },
      "execution_count": null,
      "outputs": []
    },
    {
      "cell_type": "code",
      "source": [
        "import matplotlib.pyplot as plt\n",
        "\n",
        "iterations = [i * 100 for i in range(10)]\n",
        "w0 = [1.4e-06, 0.0021, 0.0041, 0.0061, 0.0081, 0.0101, 0.0121, 0.0141, 0.0161, 0.0181]\n",
        "w1 = [4e-06, 0.0032, 0.0063, 0.0093, 0.0124, 0.0154, 0.0185, 0.0215, 0.0246, 0.0276]\n",
        "cost = [7.6995, 7.5466, 7.3940, 7.2419, 7.0902, 6.9388, 6.7881, 6.6378, 6.4879, 6.3384]\n",
        "\n",
        "fig, ax1 = plt.subplots()\n",
        "\n",
        "color = 'tab:red'\n",
        "ax1.set_xlabel('Iteration')\n",
        "ax1.set_ylabel('Cost', color=color)\n",
        "ax1.plot(iterations, cost, color=color)\n",
        "ax1.tick_params(axis='y', labelcolor=color)\n",
        "\n",
        "ax2 = ax1.twinx()\n",
        "color = 'tab:blue'\n",
        "ax2.set_ylabel('Weights', color=color)\n",
        "ax2.plot(iterations, w0, label='w0', color='blue', marker='o')\n",
        "ax2.plot(iterations, w1, label='w1', color='green', marker='x')\n",
        "ax2.tick_params(axis='y', labelcolor=color)\n",
        "\n",
        "fig.tight_layout()\n",
        "plt.title('Weights and Cost over Iterations')\n",
        "ax2.legend(loc='upper left')\n",
        "\n",
        "plt.show()\n"
      ],
      "metadata": {
        "id": "yzynG1cogCNv",
        "colab": {
          "base_uri": "https://localhost:8080/",
          "height": 509
        },
        "outputId": "702f9dc7-c572-4a7b-be7e-a95590728211"
      },
      "execution_count": null,
      "outputs": [
        {
          "output_type": "display_data",
          "data": {
            "text/plain": [
              "<Figure size 640x480 with 2 Axes>"
            ],
            "image/png": "[encoded data removed]"
          },
          "metadata": {}
        }
      ]
    },
    {
      "cell_type": "markdown",
      "source": [
        "### 3. Vectorization\n",
        "\n",
        "\n",
        "> Vectorization is a technique that performs operations on entire arrays or matrices in a single operation rather than looping through each element individually. Now, your task is to implement and to train the linear regression model, by using the vectorization. Your method skeleton will look a bit different now and you will need to rewrite them, by using the matrix methods covered last week.\n",
        "\n"
      ],
      "metadata": {
        "id": "t2cVxS68lkqa"
      }
    },
    {
      "cell_type": "markdown",
      "source": [
        "#### 3.1. Linear Regression Cost Function\n",
        "> This function takes three matrices as the parameters:\n",
        "\n",
        "\n",
        "*   $ w $ (vector of weights, that contains slope and intercept for the independent variable)\n",
        "*  $ x $ (matrix of input features - each row of $x$ corresponds to a single entry data point)\n",
        "*  $ y $ (vector of each target value --> dependant variables)\n",
        "\n",
        "> By using the matrix methods that we implemented last week, implement this cost function.\n",
        "\n",
        "> **A bit of a tip**: To calculate the predicted values, use the matrix multiplication. To calculate the difference between actual and predicted values, use the diff method. The only thing left is to compute the square difference and divide it with the number of data points doubled."
      ],
      "metadata": {
        "id": "yrbKDuGwQjuP"
      }
    },
    {
      "cell_type": "code",
      "source": [
        "def linear_reg_cost(w, x, y):\n",
        "    m = len(y)\n",
        "    predictions = multiply(x, w)\n",
        "    errors = subtract(predictions, y)\n",
        "    squared_errors = vector_multiply(errors, errors)\n",
        "    cost = sum(squared_errors) / (2 * m)\n",
        "    return cost\n",
        "\n",
        "def multiply(matrix, vector):\n",
        "    result = [sum(x_i * w_i for x_i, w_i in zip(row, vector)) for row in matrix]\n",
        "    return result\n",
        "\n",
        "def subtract(v1, v2):\n",
        "    result = [i - j for i, j in zip(v1, v2)]\n",
        "    return result\n",
        "\n",
        "def vector_multiply(v1, v2):\n",
        "    result = [i * j for i, j in zip(v1, v2)]\n",
        "    return result\n",
        "\n",
        "\n",
        "x = [[row[0]] for row in data]\n",
        "y = [row[1] for row in data]\n",
        "\n",
        "w = [1, 2]\n",
        "cost = linear_reg_cost(w, x, y)\n",
        "print(cost)\n",
        "\n",
        "\n"
      ],
      "metadata": {
        "id": "vlD8C-5pQj_p",
        "colab": {
          "base_uri": "https://localhost:8080/"
        },
        "outputId": "a1df19ba-2da6-44e5-cc99-213dd03ef4b3"
      },
      "execution_count": null,
      "outputs": [
        {
          "output_type": "stream",
          "name": "stdout",
          "text": [
            "64829649397.47872\n"
          ]
        }
      ]
    },
    {
      "cell_type": "markdown",
      "source": [
        "#### 3.2. Linear Regression Delta Cost Function\n",
        "> To calculate the vectorized gradient, **here is a hint**. Firstly compute the predicted values and the difference between the actual and predicted values. Next, transpose the input features ($x$) and perform matrix multiplication to calculate the weighted sum of feature errors. At the end, scale the result by the inverse of the number of data points ($m$), to obtain the average gradient."
      ],
      "metadata": {
        "id": "1e-g0SfcS9nC"
      }
    },
    {
      "cell_type": "code",
      "source": [
        "def linear_reg_delta_cost(w, x, y):\n",
        "    m = len(y)\n",
        "    predictions = multiply(x, w)\n",
        "    errors = subtract(predictions, y)\n",
        "    x_transpose = transpose_matrix(x)\n",
        "    gradient = multiply(x_transpose, errors)\n",
        "    gradient = scalar_multiply(1 / m, gradient)\n",
        "    return gradient\n",
        "\n",
        "def transpose_matrix(matrix):\n",
        "    return list(map(list, zip(*matrix)))\n",
        "\n",
        "def scalar_multiply(scalar, vector):\n",
        "    return [scalar * x for x in vector]\n",
        "\n",
        "x = [[row[0]] for row in data]\n",
        "y = [row[1] for row in data]\n",
        "w = [1, 2]\n",
        "\n",
        "\n",
        "gradients = linear_reg_delta_cost(w, x, y)\n",
        "print(gradients)"
      ],
      "metadata": {
        "id": "4aJVp0VETDkv",
        "colab": {
          "base_uri": "https://localhost:8080/"
        },
        "outputId": "a945172d-c2ea-4f9d-98b6-2a9f7cf7c5b2"
      },
      "execution_count": null,
      "outputs": [
        {
          "output_type": "stream",
          "name": "stdout",
          "text": [
            "[-759588289.7659575]\n"
          ]
        }
      ]
    },
    {
      "cell_type": "markdown",
      "source": [
        "#### 3.3. Training the Linear Regression Model\n",
        "\n",
        "> As we mentioned above, the algorithm continuously adjusts the weights in a manner that moves them away from the direction where the cost function increases the most, aiming to approach the minimum of the cost function. This iterative process enables the algorithm to gradually refine the model's parameters, enhancing its ability to accurately capture the patterns in the data. The logic for this function stays the same as for the initial one; you will just need to adjust your code, to use the matrix methods, instead of writing the loops and iterating through elements. The function should return the optimized parameter $ w$ and the final cost."
      ],
      "metadata": {
        "id": "ljMSFYr8VMay"
      }
    },
    {
      "cell_type": "code",
      "source": [
        "def train_linear_reg(x,\n",
        "                     y,\n",
        "                     w,\n",
        "                     learning_rate = 0.0000004,\n",
        "                     num_iterations = 1000,\n",
        "                     logging = True):\n",
        "  for iteration in range(num_iterations):\n",
        "        cost = linear_reg_cost(w, x, y)\n",
        "        gradients = linear_reg_delta_cost(w, x, y)\n",
        "        w = subtract(w, scalar_multiply(learning_rate, gradients))\n",
        "        if logging and iteration % 100 == 0:\n",
        "            print(f\"Iteration {iteration}: cost = {cost}\")\n",
        "\n",
        "  return w, cost\n",
        "\n",
        "x = [[row[0]] for row in data]\n",
        "y = [row[1] for row in data]\n",
        "\n",
        "initial_w = [0, 0]\n",
        "optimized_w, final_cost = train_linear_reg(x, y, initial_w)\n",
        "print(f\"Optimized: {optimized_w}\")\n",
        "print(f\"Final cost: {final_cost}\")"
      ],
      "metadata": {
        "id": "A2Ck2zSCVbP-",
        "colab": {
          "base_uri": "https://localhost:8080/"
        },
        "outputId": "a74691dd-384f-47b9-aae1-fca184035e5f"
      },
      "execution_count": null,
      "outputs": [
        {
          "output_type": "stream",
          "name": "stdout",
          "text": [
            "Iteration 0: cost = 65591548106.45744\n",
            "Iteration 100: cost = 2397865723.593575\n",
            "Iteration 200: cost = 2397865723.5932484\n",
            "Iteration 300: cost = 2397865723.593249\n",
            "Iteration 400: cost = 2397865723.593249\n",
            "Iteration 500: cost = 2397865723.593249\n",
            "Iteration 600: cost = 2397865723.593249\n",
            "Iteration 700: cost = 2397865723.593249\n",
            "Iteration 800: cost = 2397865723.593249\n",
            "Iteration 900: cost = 2397865723.593249\n",
            "Optimized: [165.38321789589932]\n",
            "Final cost: 2397865723.5932484\n"
          ]
        }
      ]
    },
    {
      "cell_type": "markdown",
      "source": [
        "3.4. Visualization & Plotting\n",
        "> Additionally, you can try to plot and visualize the regression line alongside the data points."
      ],
      "metadata": {
        "id": "jzWXtm5SVhEo"
      }
    },
    {
      "cell_type": "code",
      "source": [
        "import matplotlib.pyplot as plt\n",
        "x = [row[0] for row in data]\n",
        "y = [row[1] for row in data]\n",
        "\n",
        "plt.scatter(x, y, color='blue', label='Data Points')\n",
        "\n",
        "try:\n",
        "    if optimized_w:\n",
        "        predicted_y = [optimized_w[0] + optimized_w[1] * xi for xi in x]\n",
        "        plt.plot(x, predicted_y, color='red', label='Regression Line')\n",
        "    else:\n",
        "        print(\"Error\")\n",
        "except IndexError:\n",
        "    print(\"Error\")\n",
        "\n",
        "plt.xlabel('Feature')\n",
        "plt.ylabel('Target')\n",
        "plt.title('Linear Regression')\n",
        "plt.legend()\n",
        "plt.show()\n",
        "\n",
        "print(\"Optimized weights:\", optimized_w)\n"
      ],
      "metadata": {
        "id": "6rhyoHAjWaDs",
        "colab": {
          "base_uri": "https://localhost:8080/",
          "height": 507
        },
        "outputId": "d3c94a7a-143a-4038-c667-a4dd97b73219"
      },
      "execution_count": null,
      "outputs": [
        {
          "output_type": "stream",
          "name": "stdout",
          "text": [
            "Error\n"
          ]
        },
        {
          "output_type": "display_data",
          "data": {
            "text/plain": [
              "<Figure size 640x480 with 1 Axes>"
            ],
            "image/png": "[encoded data removed]"
          },
          "metadata": {}
        },
        {
          "output_type": "stream",
          "name": "stdout",
          "text": [
            "Optimized weights: [165.38321789589932]\n"
          ]
        }
      ]
    },
    {
      "cell_type": "code",
      "source": [],
      "metadata": {
        "id": "zRwS-PmcDeBY"
      },
      "execution_count": null,
      "outputs": []
    }
  ]
}